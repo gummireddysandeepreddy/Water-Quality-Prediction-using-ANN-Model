{
 "cells": [
  {
   "cell_type": "code",
   "execution_count": 2,
   "metadata": {
    "id": "ncrDU9frrxWu"
   },
   "outputs": [],
   "source": [
    "#necessary imports\n",
    "import numpy as np\n",
    "import pandas as pd\n",
    "import matplotlib.pyplot as plt\n",
    "import seaborn as sns\n",
    "import warnings\n",
    "from sklearn.model_selection import train_test_split\n",
    "from sklearn.preprocessing import StandardScaler\n",
    "from sklearn.metrics import confusion_matrix\n",
    "from tensorflow.keras.models import Sequential\n",
    "from tensorflow.keras.layers import Dense\n",
    "from imblearn.over_sampling import SMOTE\n",
    "from collections import Counter\n",
    "warnings.filterwarnings('ignore')\n",
    "sns.set_style('whitegrid')\n",
    "%matplotlib inline"
   ]
  },
  {
   "cell_type": "code",
   "execution_count": 3,
   "metadata": {
    "colab": {
     "base_uri": "https://localhost:8080/",
     "height": 206
    },
    "id": "f0YOUormsCXY",
    "outputId": "aa743d18-5030-4dcb-9817-26f1d0b96af7"
   },
   "outputs": [
    {
     "data": {
      "text/html": [
       "<div>\n",
       "<style scoped>\n",
       "    .dataframe tbody tr th:only-of-type {\n",
       "        vertical-align: middle;\n",
       "    }\n",
       "\n",
       "    .dataframe tbody tr th {\n",
       "        vertical-align: top;\n",
       "    }\n",
       "\n",
       "    .dataframe thead th {\n",
       "        text-align: right;\n",
       "    }\n",
       "</style>\n",
       "<table border=\"1\" class=\"dataframe\">\n",
       "  <thead>\n",
       "    <tr style=\"text-align: right;\">\n",
       "      <th></th>\n",
       "      <th>ph</th>\n",
       "      <th>Hardness</th>\n",
       "      <th>Solids</th>\n",
       "      <th>Chloramines</th>\n",
       "      <th>Sulfate</th>\n",
       "      <th>Conductivity</th>\n",
       "      <th>Organic_carbon</th>\n",
       "      <th>Trihalomethanes</th>\n",
       "      <th>Turbidity</th>\n",
       "      <th>Potability</th>\n",
       "    </tr>\n",
       "  </thead>\n",
       "  <tbody>\n",
       "    <tr>\n",
       "      <th>0</th>\n",
       "      <td>NaN</td>\n",
       "      <td>204.890455</td>\n",
       "      <td>20791.318981</td>\n",
       "      <td>7.300212</td>\n",
       "      <td>368.516441</td>\n",
       "      <td>564.308654</td>\n",
       "      <td>10.379783</td>\n",
       "      <td>86.990970</td>\n",
       "      <td>2.963135</td>\n",
       "      <td>0</td>\n",
       "    </tr>\n",
       "    <tr>\n",
       "      <th>1</th>\n",
       "      <td>3.716080</td>\n",
       "      <td>129.422921</td>\n",
       "      <td>18630.057858</td>\n",
       "      <td>6.635246</td>\n",
       "      <td>NaN</td>\n",
       "      <td>592.885359</td>\n",
       "      <td>15.180013</td>\n",
       "      <td>56.329076</td>\n",
       "      <td>4.500656</td>\n",
       "      <td>0</td>\n",
       "    </tr>\n",
       "    <tr>\n",
       "      <th>2</th>\n",
       "      <td>8.099124</td>\n",
       "      <td>224.236259</td>\n",
       "      <td>19909.541732</td>\n",
       "      <td>9.275884</td>\n",
       "      <td>NaN</td>\n",
       "      <td>418.606213</td>\n",
       "      <td>16.868637</td>\n",
       "      <td>66.420093</td>\n",
       "      <td>3.055934</td>\n",
       "      <td>0</td>\n",
       "    </tr>\n",
       "    <tr>\n",
       "      <th>3</th>\n",
       "      <td>8.316766</td>\n",
       "      <td>214.373394</td>\n",
       "      <td>22018.417441</td>\n",
       "      <td>8.059332</td>\n",
       "      <td>356.886136</td>\n",
       "      <td>363.266516</td>\n",
       "      <td>18.436524</td>\n",
       "      <td>100.341674</td>\n",
       "      <td>4.628771</td>\n",
       "      <td>0</td>\n",
       "    </tr>\n",
       "    <tr>\n",
       "      <th>4</th>\n",
       "      <td>9.092223</td>\n",
       "      <td>181.101509</td>\n",
       "      <td>17978.986339</td>\n",
       "      <td>6.546600</td>\n",
       "      <td>310.135738</td>\n",
       "      <td>398.410813</td>\n",
       "      <td>11.558279</td>\n",
       "      <td>31.997993</td>\n",
       "      <td>4.075075</td>\n",
       "      <td>0</td>\n",
       "    </tr>\n",
       "  </tbody>\n",
       "</table>\n",
       "</div>"
      ],
      "text/plain": [
       "         ph    Hardness        Solids  Chloramines     Sulfate  Conductivity  \\\n",
       "0       NaN  204.890455  20791.318981     7.300212  368.516441    564.308654   \n",
       "1  3.716080  129.422921  18630.057858     6.635246         NaN    592.885359   \n",
       "2  8.099124  224.236259  19909.541732     9.275884         NaN    418.606213   \n",
       "3  8.316766  214.373394  22018.417441     8.059332  356.886136    363.266516   \n",
       "4  9.092223  181.101509  17978.986339     6.546600  310.135738    398.410813   \n",
       "\n",
       "   Organic_carbon  Trihalomethanes  Turbidity  Potability  \n",
       "0       10.379783        86.990970   2.963135           0  \n",
       "1       15.180013        56.329076   4.500656           0  \n",
       "2       16.868637        66.420093   3.055934           0  \n",
       "3       18.436524       100.341674   4.628771           0  \n",
       "4       11.558279        31.997993   4.075075           0  "
      ]
     },
     "execution_count": 3,
     "metadata": {},
     "output_type": "execute_result"
    }
   ],
   "source": [
    "#import the data\n",
    "df = pd.read_csv('water_potability.csv')\n",
    "#view the first first rows of the data\n",
    "df.head()"
   ]
  },
  {
   "cell_type": "code",
   "execution_count": 4,
   "metadata": {
    "colab": {
     "base_uri": "https://localhost:8080/"
    },
    "id": "jxYACToysbtx",
    "outputId": "a1d31ae0-0b57-49f4-e29d-a81d39daeb30"
   },
   "outputs": [
    {
     "data": {
      "text/plain": [
       "(3276, 10)"
      ]
     },
     "execution_count": 4,
     "metadata": {},
     "output_type": "execute_result"
    }
   ],
   "source": [
    "#check the rows and columns of the data\n",
    "df.shape"
   ]
  },
  {
   "cell_type": "markdown",
   "metadata": {},
   "source": []
  },
  {
   "cell_type": "code",
   "execution_count": 5,
   "metadata": {
    "id": "zQ3LNGYYsrE5"
   },
   "outputs": [],
   "source": [
    "df_temp = df.copy()"
   ]
  },
  {
   "cell_type": "code",
   "execution_count": 6,
   "metadata": {
    "colab": {
     "base_uri": "https://localhost:8080/"
    },
    "id": "SLm5NkwDszA2",
    "outputId": "59191549-b298-4fca-88a7-8a712997139a"
   },
   "outputs": [
    {
     "name": "stdout",
     "output_type": "stream",
     "text": [
      "<class 'pandas.core.frame.DataFrame'>\n",
      "RangeIndex: 3276 entries, 0 to 3275\n",
      "Data columns (total 10 columns):\n",
      " #   Column           Non-Null Count  Dtype  \n",
      "---  ------           --------------  -----  \n",
      " 0   ph               2785 non-null   float64\n",
      " 1   Hardness         3276 non-null   float64\n",
      " 2   Solids           3276 non-null   float64\n",
      " 3   Chloramines      3276 non-null   float64\n",
      " 4   Sulfate          2495 non-null   float64\n",
      " 5   Conductivity     3276 non-null   float64\n",
      " 6   Organic_carbon   3276 non-null   float64\n",
      " 7   Trihalomethanes  3114 non-null   float64\n",
      " 8   Turbidity        3276 non-null   float64\n",
      " 9   Potability       3276 non-null   int64  \n",
      "dtypes: float64(9), int64(1)\n",
      "memory usage: 256.1 KB\n"
     ]
    }
   ],
   "source": [
    "df_temp.info()"
   ]
  },
  {
   "cell_type": "code",
   "execution_count": 7,
   "metadata": {
    "colab": {
     "base_uri": "https://localhost:8080/",
     "height": 320
    },
    "id": "Ytshww0Is5Hh",
    "outputId": "3ff5e33a-6873-44a0-8f37-31b718e386df"
   },
   "outputs": [
    {
     "data": {
      "text/html": [
       "<div>\n",
       "<style scoped>\n",
       "    .dataframe tbody tr th:only-of-type {\n",
       "        vertical-align: middle;\n",
       "    }\n",
       "\n",
       "    .dataframe tbody tr th {\n",
       "        vertical-align: top;\n",
       "    }\n",
       "\n",
       "    .dataframe thead th {\n",
       "        text-align: right;\n",
       "    }\n",
       "</style>\n",
       "<table border=\"1\" class=\"dataframe\">\n",
       "  <thead>\n",
       "    <tr style=\"text-align: right;\">\n",
       "      <th></th>\n",
       "      <th>ph</th>\n",
       "      <th>Hardness</th>\n",
       "      <th>Solids</th>\n",
       "      <th>Chloramines</th>\n",
       "      <th>Sulfate</th>\n",
       "      <th>Conductivity</th>\n",
       "      <th>Organic_carbon</th>\n",
       "      <th>Trihalomethanes</th>\n",
       "      <th>Turbidity</th>\n",
       "      <th>Potability</th>\n",
       "    </tr>\n",
       "  </thead>\n",
       "  <tbody>\n",
       "    <tr>\n",
       "      <th>count</th>\n",
       "      <td>2785.000000</td>\n",
       "      <td>3276.000000</td>\n",
       "      <td>3276.000000</td>\n",
       "      <td>3276.000000</td>\n",
       "      <td>2495.000000</td>\n",
       "      <td>3276.000000</td>\n",
       "      <td>3276.000000</td>\n",
       "      <td>3114.000000</td>\n",
       "      <td>3276.000000</td>\n",
       "      <td>3276.000000</td>\n",
       "    </tr>\n",
       "    <tr>\n",
       "      <th>mean</th>\n",
       "      <td>7.080795</td>\n",
       "      <td>196.369496</td>\n",
       "      <td>22014.092526</td>\n",
       "      <td>7.122277</td>\n",
       "      <td>333.775777</td>\n",
       "      <td>426.205111</td>\n",
       "      <td>14.284970</td>\n",
       "      <td>66.396293</td>\n",
       "      <td>3.966786</td>\n",
       "      <td>0.390110</td>\n",
       "    </tr>\n",
       "    <tr>\n",
       "      <th>std</th>\n",
       "      <td>1.594320</td>\n",
       "      <td>32.879761</td>\n",
       "      <td>8768.570828</td>\n",
       "      <td>1.583085</td>\n",
       "      <td>41.416840</td>\n",
       "      <td>80.824064</td>\n",
       "      <td>3.308162</td>\n",
       "      <td>16.175008</td>\n",
       "      <td>0.780382</td>\n",
       "      <td>0.487849</td>\n",
       "    </tr>\n",
       "    <tr>\n",
       "      <th>min</th>\n",
       "      <td>0.000000</td>\n",
       "      <td>47.432000</td>\n",
       "      <td>320.942611</td>\n",
       "      <td>0.352000</td>\n",
       "      <td>129.000000</td>\n",
       "      <td>181.483754</td>\n",
       "      <td>2.200000</td>\n",
       "      <td>0.738000</td>\n",
       "      <td>1.450000</td>\n",
       "      <td>0.000000</td>\n",
       "    </tr>\n",
       "    <tr>\n",
       "      <th>25%</th>\n",
       "      <td>6.093092</td>\n",
       "      <td>176.850538</td>\n",
       "      <td>15666.690297</td>\n",
       "      <td>6.127421</td>\n",
       "      <td>307.699498</td>\n",
       "      <td>365.734414</td>\n",
       "      <td>12.065801</td>\n",
       "      <td>55.844536</td>\n",
       "      <td>3.439711</td>\n",
       "      <td>0.000000</td>\n",
       "    </tr>\n",
       "    <tr>\n",
       "      <th>50%</th>\n",
       "      <td>7.036752</td>\n",
       "      <td>196.967627</td>\n",
       "      <td>20927.833607</td>\n",
       "      <td>7.130299</td>\n",
       "      <td>333.073546</td>\n",
       "      <td>421.884968</td>\n",
       "      <td>14.218338</td>\n",
       "      <td>66.622485</td>\n",
       "      <td>3.955028</td>\n",
       "      <td>0.000000</td>\n",
       "    </tr>\n",
       "    <tr>\n",
       "      <th>75%</th>\n",
       "      <td>8.062066</td>\n",
       "      <td>216.667456</td>\n",
       "      <td>27332.762127</td>\n",
       "      <td>8.114887</td>\n",
       "      <td>359.950170</td>\n",
       "      <td>481.792304</td>\n",
       "      <td>16.557652</td>\n",
       "      <td>77.337473</td>\n",
       "      <td>4.500320</td>\n",
       "      <td>1.000000</td>\n",
       "    </tr>\n",
       "    <tr>\n",
       "      <th>max</th>\n",
       "      <td>14.000000</td>\n",
       "      <td>323.124000</td>\n",
       "      <td>61227.196008</td>\n",
       "      <td>13.127000</td>\n",
       "      <td>481.030642</td>\n",
       "      <td>753.342620</td>\n",
       "      <td>28.300000</td>\n",
       "      <td>124.000000</td>\n",
       "      <td>6.739000</td>\n",
       "      <td>1.000000</td>\n",
       "    </tr>\n",
       "  </tbody>\n",
       "</table>\n",
       "</div>"
      ],
      "text/plain": [
       "                ph     Hardness        Solids  Chloramines      Sulfate  \\\n",
       "count  2785.000000  3276.000000   3276.000000  3276.000000  2495.000000   \n",
       "mean      7.080795   196.369496  22014.092526     7.122277   333.775777   \n",
       "std       1.594320    32.879761   8768.570828     1.583085    41.416840   \n",
       "min       0.000000    47.432000    320.942611     0.352000   129.000000   \n",
       "25%       6.093092   176.850538  15666.690297     6.127421   307.699498   \n",
       "50%       7.036752   196.967627  20927.833607     7.130299   333.073546   \n",
       "75%       8.062066   216.667456  27332.762127     8.114887   359.950170   \n",
       "max      14.000000   323.124000  61227.196008    13.127000   481.030642   \n",
       "\n",
       "       Conductivity  Organic_carbon  Trihalomethanes    Turbidity   Potability  \n",
       "count   3276.000000     3276.000000      3114.000000  3276.000000  3276.000000  \n",
       "mean     426.205111       14.284970        66.396293     3.966786     0.390110  \n",
       "std       80.824064        3.308162        16.175008     0.780382     0.487849  \n",
       "min      181.483754        2.200000         0.738000     1.450000     0.000000  \n",
       "25%      365.734414       12.065801        55.844536     3.439711     0.000000  \n",
       "50%      421.884968       14.218338        66.622485     3.955028     0.000000  \n",
       "75%      481.792304       16.557652        77.337473     4.500320     1.000000  \n",
       "max      753.342620       28.300000       124.000000     6.739000     1.000000  "
      ]
     },
     "execution_count": 7,
     "metadata": {},
     "output_type": "execute_result"
    }
   ],
   "source": [
    "df_temp.describe()"
   ]
  },
  {
   "cell_type": "code",
   "execution_count": 8,
   "metadata": {
    "colab": {
     "base_uri": "https://localhost:8080/",
     "height": 363
    },
    "id": "LUYOZ5iBs9Mh",
    "outputId": "5d2e01c4-7da9-4943-f13f-634eefd0d109"
   },
   "outputs": [
    {
     "data": {
      "text/html": [
       "<div>\n",
       "<style scoped>\n",
       "    .dataframe tbody tr th:only-of-type {\n",
       "        vertical-align: middle;\n",
       "    }\n",
       "\n",
       "    .dataframe tbody tr th {\n",
       "        vertical-align: top;\n",
       "    }\n",
       "\n",
       "    .dataframe thead th {\n",
       "        text-align: right;\n",
       "    }\n",
       "</style>\n",
       "<table border=\"1\" class=\"dataframe\">\n",
       "  <thead>\n",
       "    <tr style=\"text-align: right;\">\n",
       "      <th></th>\n",
       "      <th>ph</th>\n",
       "      <th>Hardness</th>\n",
       "      <th>Solids</th>\n",
       "      <th>Chloramines</th>\n",
       "      <th>Sulfate</th>\n",
       "      <th>Conductivity</th>\n",
       "      <th>Organic_carbon</th>\n",
       "      <th>Trihalomethanes</th>\n",
       "      <th>Turbidity</th>\n",
       "      <th>Potability</th>\n",
       "    </tr>\n",
       "  </thead>\n",
       "  <tbody>\n",
       "    <tr>\n",
       "      <th>ph</th>\n",
       "      <td>1.000000</td>\n",
       "      <td>0.082096</td>\n",
       "      <td>-0.089288</td>\n",
       "      <td>-0.034350</td>\n",
       "      <td>0.018203</td>\n",
       "      <td>0.018614</td>\n",
       "      <td>0.043503</td>\n",
       "      <td>0.003354</td>\n",
       "      <td>-0.039057</td>\n",
       "      <td>-0.003556</td>\n",
       "    </tr>\n",
       "    <tr>\n",
       "      <th>Hardness</th>\n",
       "      <td>0.082096</td>\n",
       "      <td>1.000000</td>\n",
       "      <td>-0.046899</td>\n",
       "      <td>-0.030054</td>\n",
       "      <td>-0.106923</td>\n",
       "      <td>-0.023915</td>\n",
       "      <td>0.003610</td>\n",
       "      <td>-0.013013</td>\n",
       "      <td>-0.014449</td>\n",
       "      <td>-0.013837</td>\n",
       "    </tr>\n",
       "    <tr>\n",
       "      <th>Solids</th>\n",
       "      <td>-0.089288</td>\n",
       "      <td>-0.046899</td>\n",
       "      <td>1.000000</td>\n",
       "      <td>-0.070148</td>\n",
       "      <td>-0.171804</td>\n",
       "      <td>0.013831</td>\n",
       "      <td>0.010242</td>\n",
       "      <td>-0.009143</td>\n",
       "      <td>0.019546</td>\n",
       "      <td>0.033743</td>\n",
       "    </tr>\n",
       "    <tr>\n",
       "      <th>Chloramines</th>\n",
       "      <td>-0.034350</td>\n",
       "      <td>-0.030054</td>\n",
       "      <td>-0.070148</td>\n",
       "      <td>1.000000</td>\n",
       "      <td>0.027244</td>\n",
       "      <td>-0.020486</td>\n",
       "      <td>-0.012653</td>\n",
       "      <td>0.017084</td>\n",
       "      <td>0.002363</td>\n",
       "      <td>0.023779</td>\n",
       "    </tr>\n",
       "    <tr>\n",
       "      <th>Sulfate</th>\n",
       "      <td>0.018203</td>\n",
       "      <td>-0.106923</td>\n",
       "      <td>-0.171804</td>\n",
       "      <td>0.027244</td>\n",
       "      <td>1.000000</td>\n",
       "      <td>-0.016121</td>\n",
       "      <td>0.030831</td>\n",
       "      <td>-0.030274</td>\n",
       "      <td>-0.011187</td>\n",
       "      <td>-0.023577</td>\n",
       "    </tr>\n",
       "    <tr>\n",
       "      <th>Conductivity</th>\n",
       "      <td>0.018614</td>\n",
       "      <td>-0.023915</td>\n",
       "      <td>0.013831</td>\n",
       "      <td>-0.020486</td>\n",
       "      <td>-0.016121</td>\n",
       "      <td>1.000000</td>\n",
       "      <td>0.020966</td>\n",
       "      <td>0.001285</td>\n",
       "      <td>0.005798</td>\n",
       "      <td>-0.008128</td>\n",
       "    </tr>\n",
       "    <tr>\n",
       "      <th>Organic_carbon</th>\n",
       "      <td>0.043503</td>\n",
       "      <td>0.003610</td>\n",
       "      <td>0.010242</td>\n",
       "      <td>-0.012653</td>\n",
       "      <td>0.030831</td>\n",
       "      <td>0.020966</td>\n",
       "      <td>1.000000</td>\n",
       "      <td>-0.013274</td>\n",
       "      <td>-0.027308</td>\n",
       "      <td>-0.030001</td>\n",
       "    </tr>\n",
       "    <tr>\n",
       "      <th>Trihalomethanes</th>\n",
       "      <td>0.003354</td>\n",
       "      <td>-0.013013</td>\n",
       "      <td>-0.009143</td>\n",
       "      <td>0.017084</td>\n",
       "      <td>-0.030274</td>\n",
       "      <td>0.001285</td>\n",
       "      <td>-0.013274</td>\n",
       "      <td>1.000000</td>\n",
       "      <td>-0.022145</td>\n",
       "      <td>0.007130</td>\n",
       "    </tr>\n",
       "    <tr>\n",
       "      <th>Turbidity</th>\n",
       "      <td>-0.039057</td>\n",
       "      <td>-0.014449</td>\n",
       "      <td>0.019546</td>\n",
       "      <td>0.002363</td>\n",
       "      <td>-0.011187</td>\n",
       "      <td>0.005798</td>\n",
       "      <td>-0.027308</td>\n",
       "      <td>-0.022145</td>\n",
       "      <td>1.000000</td>\n",
       "      <td>0.001581</td>\n",
       "    </tr>\n",
       "    <tr>\n",
       "      <th>Potability</th>\n",
       "      <td>-0.003556</td>\n",
       "      <td>-0.013837</td>\n",
       "      <td>0.033743</td>\n",
       "      <td>0.023779</td>\n",
       "      <td>-0.023577</td>\n",
       "      <td>-0.008128</td>\n",
       "      <td>-0.030001</td>\n",
       "      <td>0.007130</td>\n",
       "      <td>0.001581</td>\n",
       "      <td>1.000000</td>\n",
       "    </tr>\n",
       "  </tbody>\n",
       "</table>\n",
       "</div>"
      ],
      "text/plain": [
       "                       ph  Hardness    Solids  Chloramines   Sulfate  \\\n",
       "ph               1.000000  0.082096 -0.089288    -0.034350  0.018203   \n",
       "Hardness         0.082096  1.000000 -0.046899    -0.030054 -0.106923   \n",
       "Solids          -0.089288 -0.046899  1.000000    -0.070148 -0.171804   \n",
       "Chloramines     -0.034350 -0.030054 -0.070148     1.000000  0.027244   \n",
       "Sulfate          0.018203 -0.106923 -0.171804     0.027244  1.000000   \n",
       "Conductivity     0.018614 -0.023915  0.013831    -0.020486 -0.016121   \n",
       "Organic_carbon   0.043503  0.003610  0.010242    -0.012653  0.030831   \n",
       "Trihalomethanes  0.003354 -0.013013 -0.009143     0.017084 -0.030274   \n",
       "Turbidity       -0.039057 -0.014449  0.019546     0.002363 -0.011187   \n",
       "Potability      -0.003556 -0.013837  0.033743     0.023779 -0.023577   \n",
       "\n",
       "                 Conductivity  Organic_carbon  Trihalomethanes  Turbidity  \\\n",
       "ph                   0.018614        0.043503         0.003354  -0.039057   \n",
       "Hardness            -0.023915        0.003610        -0.013013  -0.014449   \n",
       "Solids               0.013831        0.010242        -0.009143   0.019546   \n",
       "Chloramines         -0.020486       -0.012653         0.017084   0.002363   \n",
       "Sulfate             -0.016121        0.030831        -0.030274  -0.011187   \n",
       "Conductivity         1.000000        0.020966         0.001285   0.005798   \n",
       "Organic_carbon       0.020966        1.000000        -0.013274  -0.027308   \n",
       "Trihalomethanes      0.001285       -0.013274         1.000000  -0.022145   \n",
       "Turbidity            0.005798       -0.027308        -0.022145   1.000000   \n",
       "Potability          -0.008128       -0.030001         0.007130   0.001581   \n",
       "\n",
       "                 Potability  \n",
       "ph                -0.003556  \n",
       "Hardness          -0.013837  \n",
       "Solids             0.033743  \n",
       "Chloramines        0.023779  \n",
       "Sulfate           -0.023577  \n",
       "Conductivity      -0.008128  \n",
       "Organic_carbon    -0.030001  \n",
       "Trihalomethanes    0.007130  \n",
       "Turbidity          0.001581  \n",
       "Potability         1.000000  "
      ]
     },
     "execution_count": 8,
     "metadata": {},
     "output_type": "execute_result"
    }
   ],
   "source": [
    "#correlation among the features\n",
    "corr = df_temp.corr()\n",
    "\n",
    "#view the corr\n",
    "corr"
   ]
  },
  {
   "cell_type": "code",
   "execution_count": 9,
   "metadata": {
    "colab": {
     "base_uri": "https://localhost:8080/",
     "height": 783
    },
    "id": "I5Vi7kBAtAug",
    "outputId": "b6d9f4f8-6706-41de-841f-3024dae8e2c4"
   },
   "outputs": [
    {
     "data": {
      "image/png": "[encoded data removed]",
      "text/plain": [
       "<Figure size 1000x800 with 2 Axes>"
      ]
     },
     "metadata": {},
     "output_type": "display_data"
    }
   ],
   "source": [
    "#better visualization with a heatmap\n",
    "plt.figure(figsize=(10,8))\n",
    "sns.heatmap(corr,\n",
    "           annot=True,\n",
    "           fmt='.2g',\n",
    "           cmap='YlGnBu')\n",
    "plt.show()"
   ]
  },
  {
   "cell_type": "code",
   "execution_count": 10,
   "metadata": {
    "colab": {
     "base_uri": "https://localhost:8080/"
    },
    "id": "Il28ZBAStE7Z",
    "outputId": "6617d6bf-d456-4bb9-ed8c-a477c8c24143"
   },
   "outputs": [
    {
     "data": {
      "text/plain": [
       "Potability\n",
       "0    0.60989\n",
       "1    0.39011\n",
       "Name: proportion, dtype: float64"
      ]
     },
     "execution_count": 10,
     "metadata": {},
     "output_type": "execute_result"
    }
   ],
   "source": [
    "#percentage of the target labels\n",
    "df_temp['Potability'].value_counts(normalize=True)"
   ]
  },
  {
   "cell_type": "code",
   "execution_count": 11,
   "metadata": {
    "colab": {
     "base_uri": "https://localhost:8080/"
    },
    "id": "hMw-S0aAtIFy",
    "outputId": "a6a8d450-79cf-4bdd-9038-7c30e997b984"
   },
   "outputs": [
    {
     "data": {
      "text/plain": [
       "array([0, 1], dtype=int64)"
      ]
     },
     "execution_count": 11,
     "metadata": {},
     "output_type": "execute_result"
    }
   ],
   "source": [
    "#check the unique entries of the target variable\n",
    "df_temp.Potability.unique()"
   ]
  },
  {
   "cell_type": "code",
   "execution_count": 12,
   "metadata": {
    "colab": {
     "base_uri": "https://localhost:8080/",
     "height": 676
    },
    "id": "z052Oi3btKuQ",
    "outputId": "9ff40c41-705d-4646-9e84-d6aa462996c4"
   },
   "outputs": [
    {
     "data": {
      "image/png": "[encoded data removed]",
      "text/plain": [
       "<Figure size 1000x800 with 1 Axes>"
      ]
     },
     "metadata": {},
     "output_type": "display_data"
    }
   ],
   "source": [
    "#bar chart showing the distribution of counts of potable water to not potable water\n",
    "df_temp['Potability'].value_counts().plot(kind='bar', color=['lightblue', 'salmon'], figsize=(10,8))\n",
    "plt.xticks(rotation=0)\n",
    "plt.show()"
   ]
  },
  {
   "cell_type": "code",
   "execution_count": 13,
   "metadata": {
    "colab": {
     "base_uri": "https://localhost:8080/"
    },
    "id": "U2fw5buUtMh2",
    "outputId": "3339dcb8-ccce-4dab-be25-13ac05ef6440"
   },
   "outputs": [
    {
     "data": {
      "text/plain": [
       "ph                 491\n",
       "Hardness             0\n",
       "Solids               0\n",
       "Chloramines          0\n",
       "Sulfate            781\n",
       "Conductivity         0\n",
       "Organic_carbon       0\n",
       "Trihalomethanes    162\n",
       "Turbidity            0\n",
       "Potability           0\n",
       "dtype: int64"
      ]
     },
     "execution_count": 13,
     "metadata": {},
     "output_type": "execute_result"
    }
   ],
   "source": [
    "#check for missing values\n",
    "df_temp.isna().sum()"
   ]
  },
  {
   "cell_type": "markdown",
   "metadata": {
    "id": "EY3zvduEtTQp"
   },
   "source": [
    "## Data Pre-processing\n"
   ]
  },
  {
   "cell_type": "code",
   "execution_count": 14,
   "metadata": {
    "id": "ml2Sh6nKtPnu"
   },
   "outputs": [],
   "source": [
    "#fill in the missing values using the median for each features\n",
    "df_temp['ph'].fillna(df_temp['ph'].median(), inplace=True)\n",
    "df_temp['Sulfate'].fillna(df_temp['Sulfate'].median(), inplace=True)\n",
    "df_temp['Trihalomethanes'].fillna(df_temp['Trihalomethanes'].median(), inplace=True)"
   ]
  },
  {
   "cell_type": "code",
   "execution_count": 15,
   "metadata": {
    "colab": {
     "base_uri": "https://localhost:8080/"
    },
    "id": "jUIfrD8stck3",
    "outputId": "2f11cd8d-014c-4ce2-8413-fd2b4630e1fc"
   },
   "outputs": [
    {
     "data": {
      "text/plain": [
       "ph                 0\n",
       "Hardness           0\n",
       "Solids             0\n",
       "Chloramines        0\n",
       "Sulfate            0\n",
       "Conductivity       0\n",
       "Organic_carbon     0\n",
       "Trihalomethanes    0\n",
       "Turbidity          0\n",
       "Potability         0\n",
       "dtype: int64"
      ]
     },
     "execution_count": 15,
     "metadata": {},
     "output_type": "execute_result"
    }
   ],
   "source": [
    "df_temp.isna().sum()"
   ]
  },
  {
   "cell_type": "code",
   "execution_count": 16,
   "metadata": {
    "colab": {
     "base_uri": "https://localhost:8080/",
     "height": 206
    },
    "id": "UnxuqGBLtf4b",
    "outputId": "3174a87e-1a45-4348-b275-123468d262d9"
   },
   "outputs": [
    {
     "data": {
      "text/html": [
       "<div>\n",
       "<style scoped>\n",
       "    .dataframe tbody tr th:only-of-type {\n",
       "        vertical-align: middle;\n",
       "    }\n",
       "\n",
       "    .dataframe tbody tr th {\n",
       "        vertical-align: top;\n",
       "    }\n",
       "\n",
       "    .dataframe thead th {\n",
       "        text-align: right;\n",
       "    }\n",
       "</style>\n",
       "<table border=\"1\" class=\"dataframe\">\n",
       "  <thead>\n",
       "    <tr style=\"text-align: right;\">\n",
       "      <th></th>\n",
       "      <th>ph</th>\n",
       "      <th>Hardness</th>\n",
       "      <th>Solids</th>\n",
       "      <th>Chloramines</th>\n",
       "      <th>Sulfate</th>\n",
       "      <th>Conductivity</th>\n",
       "      <th>Organic_carbon</th>\n",
       "      <th>Trihalomethanes</th>\n",
       "      <th>Turbidity</th>\n",
       "      <th>Potability</th>\n",
       "    </tr>\n",
       "  </thead>\n",
       "  <tbody>\n",
       "    <tr>\n",
       "      <th>0</th>\n",
       "      <td>7.036752</td>\n",
       "      <td>204.890455</td>\n",
       "      <td>20791.318981</td>\n",
       "      <td>7.300212</td>\n",
       "      <td>368.516441</td>\n",
       "      <td>564.308654</td>\n",
       "      <td>10.379783</td>\n",
       "      <td>86.990970</td>\n",
       "      <td>2.963135</td>\n",
       "      <td>0</td>\n",
       "    </tr>\n",
       "    <tr>\n",
       "      <th>1</th>\n",
       "      <td>3.716080</td>\n",
       "      <td>129.422921</td>\n",
       "      <td>18630.057858</td>\n",
       "      <td>6.635246</td>\n",
       "      <td>333.073546</td>\n",
       "      <td>592.885359</td>\n",
       "      <td>15.180013</td>\n",
       "      <td>56.329076</td>\n",
       "      <td>4.500656</td>\n",
       "      <td>0</td>\n",
       "    </tr>\n",
       "    <tr>\n",
       "      <th>2</th>\n",
       "      <td>8.099124</td>\n",
       "      <td>224.236259</td>\n",
       "      <td>19909.541732</td>\n",
       "      <td>9.275884</td>\n",
       "      <td>333.073546</td>\n",
       "      <td>418.606213</td>\n",
       "      <td>16.868637</td>\n",
       "      <td>66.420093</td>\n",
       "      <td>3.055934</td>\n",
       "      <td>0</td>\n",
       "    </tr>\n",
       "    <tr>\n",
       "      <th>3</th>\n",
       "      <td>8.316766</td>\n",
       "      <td>214.373394</td>\n",
       "      <td>22018.417441</td>\n",
       "      <td>8.059332</td>\n",
       "      <td>356.886136</td>\n",
       "      <td>363.266516</td>\n",
       "      <td>18.436524</td>\n",
       "      <td>100.341674</td>\n",
       "      <td>4.628771</td>\n",
       "      <td>0</td>\n",
       "    </tr>\n",
       "    <tr>\n",
       "      <th>4</th>\n",
       "      <td>9.092223</td>\n",
       "      <td>181.101509</td>\n",
       "      <td>17978.986339</td>\n",
       "      <td>6.546600</td>\n",
       "      <td>310.135738</td>\n",
       "      <td>398.410813</td>\n",
       "      <td>11.558279</td>\n",
       "      <td>31.997993</td>\n",
       "      <td>4.075075</td>\n",
       "      <td>0</td>\n",
       "    </tr>\n",
       "  </tbody>\n",
       "</table>\n",
       "</div>"
      ],
      "text/plain": [
       "         ph    Hardness        Solids  Chloramines     Sulfate  Conductivity  \\\n",
       "0  7.036752  204.890455  20791.318981     7.300212  368.516441    564.308654   \n",
       "1  3.716080  129.422921  18630.057858     6.635246  333.073546    592.885359   \n",
       "2  8.099124  224.236259  19909.541732     9.275884  333.073546    418.606213   \n",
       "3  8.316766  214.373394  22018.417441     8.059332  356.886136    363.266516   \n",
       "4  9.092223  181.101509  17978.986339     6.546600  310.135738    398.410813   \n",
       "\n",
       "   Organic_carbon  Trihalomethanes  Turbidity  Potability  \n",
       "0       10.379783        86.990970   2.963135           0  \n",
       "1       15.180013        56.329076   4.500656           0  \n",
       "2       16.868637        66.420093   3.055934           0  \n",
       "3       18.436524       100.341674   4.628771           0  \n",
       "4       11.558279        31.997993   4.075075           0  "
      ]
     },
     "execution_count": 16,
     "metadata": {},
     "output_type": "execute_result"
    }
   ],
   "source": [
    "#view the data\n",
    "df_temp.head()"
   ]
  },
  {
   "cell_type": "code",
   "execution_count": 17,
   "metadata": {
    "colab": {
     "base_uri": "https://localhost:8080/"
    },
    "id": "X8prOKJbti8m",
    "outputId": "bb6bdfc9-0d1d-4433-f183-e982dc68c428"
   },
   "outputs": [
    {
     "data": {
      "text/plain": [
       "Potability\n",
       "0    1998\n",
       "1    1278\n",
       "Name: count, dtype: int64"
      ]
     },
     "execution_count": 17,
     "metadata": {},
     "output_type": "execute_result"
    }
   ],
   "source": [
    "#view the target distribution\n",
    "df_temp['Potability'].value_counts()"
   ]
  },
  {
   "cell_type": "code",
   "execution_count": 18,
   "metadata": {
    "id": "X0vC5NzPtmLp"
   },
   "outputs": [],
   "source": [
    "#split the dataset into features and labels\n",
    "X = df_temp.iloc[:, :-1]\n",
    "Y = df_temp.iloc[:,-1]"
   ]
  },
  {
   "cell_type": "code",
   "execution_count": 19,
   "metadata": {
    "colab": {
     "base_uri": "https://localhost:8080/",
     "height": 206
    },
    "id": "U9AO-8VDtpIZ",
    "outputId": "8bc7b175-11ed-4881-bc35-a64d138f491a"
   },
   "outputs": [
    {
     "data": {
      "text/html": [
       "<div>\n",
       "<style scoped>\n",
       "    .dataframe tbody tr th:only-of-type {\n",
       "        vertical-align: middle;\n",
       "    }\n",
       "\n",
       "    .dataframe tbody tr th {\n",
       "        vertical-align: top;\n",
       "    }\n",
       "\n",
       "    .dataframe thead th {\n",
       "        text-align: right;\n",
       "    }\n",
       "</style>\n",
       "<table border=\"1\" class=\"dataframe\">\n",
       "  <thead>\n",
       "    <tr style=\"text-align: right;\">\n",
       "      <th></th>\n",
       "      <th>ph</th>\n",
       "      <th>Hardness</th>\n",
       "      <th>Solids</th>\n",
       "      <th>Chloramines</th>\n",
       "      <th>Sulfate</th>\n",
       "      <th>Conductivity</th>\n",
       "      <th>Organic_carbon</th>\n",
       "      <th>Trihalomethanes</th>\n",
       "      <th>Turbidity</th>\n",
       "    </tr>\n",
       "  </thead>\n",
       "  <tbody>\n",
       "    <tr>\n",
       "      <th>0</th>\n",
       "      <td>7.036752</td>\n",
       "      <td>204.890455</td>\n",
       "      <td>20791.318981</td>\n",
       "      <td>7.300212</td>\n",
       "      <td>368.516441</td>\n",
       "      <td>564.308654</td>\n",
       "      <td>10.379783</td>\n",
       "      <td>86.990970</td>\n",
       "      <td>2.963135</td>\n",
       "    </tr>\n",
       "    <tr>\n",
       "      <th>1</th>\n",
       "      <td>3.716080</td>\n",
       "      <td>129.422921</td>\n",
       "      <td>18630.057858</td>\n",
       "      <td>6.635246</td>\n",
       "      <td>333.073546</td>\n",
       "      <td>592.885359</td>\n",
       "      <td>15.180013</td>\n",
       "      <td>56.329076</td>\n",
       "      <td>4.500656</td>\n",
       "    </tr>\n",
       "    <tr>\n",
       "      <th>2</th>\n",
       "      <td>8.099124</td>\n",
       "      <td>224.236259</td>\n",
       "      <td>19909.541732</td>\n",
       "      <td>9.275884</td>\n",
       "      <td>333.073546</td>\n",
       "      <td>418.606213</td>\n",
       "      <td>16.868637</td>\n",
       "      <td>66.420093</td>\n",
       "      <td>3.055934</td>\n",
       "    </tr>\n",
       "    <tr>\n",
       "      <th>3</th>\n",
       "      <td>8.316766</td>\n",
       "      <td>214.373394</td>\n",
       "      <td>22018.417441</td>\n",
       "      <td>8.059332</td>\n",
       "      <td>356.886136</td>\n",
       "      <td>363.266516</td>\n",
       "      <td>18.436524</td>\n",
       "      <td>100.341674</td>\n",
       "      <td>4.628771</td>\n",
       "    </tr>\n",
       "    <tr>\n",
       "      <th>4</th>\n",
       "      <td>9.092223</td>\n",
       "      <td>181.101509</td>\n",
       "      <td>17978.986339</td>\n",
       "      <td>6.546600</td>\n",
       "      <td>310.135738</td>\n",
       "      <td>398.410813</td>\n",
       "      <td>11.558279</td>\n",
       "      <td>31.997993</td>\n",
       "      <td>4.075075</td>\n",
       "    </tr>\n",
       "  </tbody>\n",
       "</table>\n",
       "</div>"
      ],
      "text/plain": [
       "         ph    Hardness        Solids  Chloramines     Sulfate  Conductivity  \\\n",
       "0  7.036752  204.890455  20791.318981     7.300212  368.516441    564.308654   \n",
       "1  3.716080  129.422921  18630.057858     6.635246  333.073546    592.885359   \n",
       "2  8.099124  224.236259  19909.541732     9.275884  333.073546    418.606213   \n",
       "3  8.316766  214.373394  22018.417441     8.059332  356.886136    363.266516   \n",
       "4  9.092223  181.101509  17978.986339     6.546600  310.135738    398.410813   \n",
       "\n",
       "   Organic_carbon  Trihalomethanes  Turbidity  \n",
       "0       10.379783        86.990970   2.963135  \n",
       "1       15.180013        56.329076   4.500656  \n",
       "2       16.868637        66.420093   3.055934  \n",
       "3       18.436524       100.341674   4.628771  \n",
       "4       11.558279        31.997993   4.075075  "
      ]
     },
     "execution_count": 19,
     "metadata": {},
     "output_type": "execute_result"
    }
   ],
   "source": [
    "X.head()"
   ]
  },
  {
   "cell_type": "code",
   "execution_count": 20,
   "metadata": {
    "colab": {
     "base_uri": "https://localhost:8080/"
    },
    "id": "7TNMi-kdtqxw",
    "outputId": "6149975c-4be7-43e2-9af0-39476073ad4b"
   },
   "outputs": [
    {
     "data": {
      "text/plain": [
       "0    0\n",
       "1    0\n",
       "2    0\n",
       "3    0\n",
       "4    0\n",
       "Name: Potability, dtype: int64"
      ]
     },
     "execution_count": 20,
     "metadata": {},
     "output_type": "execute_result"
    }
   ],
   "source": [
    "Y.head()"
   ]
  },
  {
   "cell_type": "code",
   "execution_count": 21,
   "metadata": {
    "colab": {
     "base_uri": "https://localhost:8080/"
    },
    "id": "_9YpzOcfttYY",
    "outputId": "7f937657-9131-4836-a75f-fd8135c1773d"
   },
   "outputs": [
    {
     "name": "stdout",
     "output_type": "stream",
     "text": [
      "Counter({0: 1998, 1: 1278})\n"
     ]
    }
   ],
   "source": [
    "counter = Counter(Y)\n",
    "print(counter)"
   ]
  },
  {
   "cell_type": "markdown",
   "metadata": {
    "colab": {
     "base_uri": "https://localhost:8080/"
    },
    "id": "z_ZGWRgHtwBD",
    "outputId": "53e088f4-e573-4293-d246-d10db840fa01"
   },
   "source": [
    "oversample = SMOTE()\n",
    "X, Y = oversample.fit_resample(X,Y)\n",
    "counter_oversample = Counter(Y)\n",
    "print(counter_oversample)"
   ]
  },
  {
   "cell_type": "code",
   "execution_count": 22,
   "metadata": {
    "id": "LYfAfNX7tyeT"
   },
   "outputs": [],
   "source": [
    "#split the dataset into training and test data\n",
    "X_train, X_test, Y_train, Y_test = train_test_split(X,Y, test_size=0.2, random_state=21, stratify=Y)"
   ]
  },
  {
   "cell_type": "code",
   "execution_count": 23,
   "metadata": {
    "colab": {
     "base_uri": "https://localhost:8080/"
    },
    "id": "yGz5PBeft2t-",
    "outputId": "aba55ee4-786a-436a-b9ab-9db7c80ecb23"
   },
   "outputs": [
    {
     "data": {
      "text/plain": [
       "array([[-0.78217497, -0.29656286,  2.55064469, -0.3210023 ,  0.22218537,\n",
       "        -1.89029832, -0.46161222, -0.44082861,  0.33008901],\n",
       "       [ 0.31847983,  1.02756832, -0.35776383, -1.75479781, -1.53183398,\n",
       "         0.2605345 ,  0.98879888, -0.82865101,  0.44954997],\n",
       "       [-2.00546562, -2.15650698, -1.23164827, -1.10956373, -1.99687031,\n",
       "         0.23556415,  1.29727791,  1.27008803,  0.63236963],\n",
       "       [-0.54044283, -0.62293586, -1.18983811, -0.03935429, -0.01479921,\n",
       "         0.05094534,  0.42018108,  1.29080157, -0.88201222],\n",
       "       [ 2.17595362, -0.99604954, -0.3557839 ,  1.86116254, -1.76991303,\n",
       "         0.25052818, -0.73407121,  1.01715387, -1.00850758],\n",
       "       [ 0.51692012,  1.35249826,  0.41983388, -1.78272077, -0.88127966,\n",
       "         0.20462721,  0.78730279,  1.93385127,  1.08698014],\n",
       "       [-0.02547355, -1.52454945,  0.41167473,  0.11717691, -0.01479921,\n",
       "         0.46997505, -1.79284098,  0.1645212 , -0.49201828],\n",
       "       [-0.05909465,  0.8415251 , -0.97055251, -0.79041109, -0.01479921,\n",
       "         0.66352233,  0.49474364,  0.42217972, -0.12366773],\n",
       "       [ 0.42877263,  1.16400774,  0.00493732,  0.6331179 , -0.01479921,\n",
       "        -0.35645137,  0.18520448, -0.98220978, -1.19885404],\n",
       "       [ 0.1691606 ,  1.03341964,  0.30431861,  0.19161954, -0.27050574,\n",
       "        -0.9514943 , -1.44725801, -0.99871777,  0.01945838]])"
      ]
     },
     "execution_count": 23,
     "metadata": {},
     "output_type": "execute_result"
    }
   ],
   "source": [
    "sc = StandardScaler()\n",
    "sc.fit(X)\n",
    "X_train = sc.transform(X_train)\n",
    "X_test = sc.transform(X_test)\n",
    "X_train[:10]"
   ]
  },
  {
   "cell_type": "code",
   "execution_count": 24,
   "metadata": {},
   "outputs": [],
   "source": [
    "d = {'mean':sc.mean_,'scale':sc.scale_}\n",
    "import pickle\n",
    "with open('models\\scaler_params.pkl','wb') as f:\n",
    "    pickle.dump(d,f)"
   ]
  },
  {
   "cell_type": "markdown",
   "metadata": {
    "id": "TY8BohYRt-PW"
   },
   "source": [
    "### Model Building"
   ]
  },
  {
   "cell_type": "code",
   "execution_count": 25,
   "metadata": {
    "id": "pizRIngQt6d6"
   },
   "outputs": [
    {
     "name": "stdout",
     "output_type": "stream",
     "text": [
      "WARNING:tensorflow:From c:\\Users\\Siva prathap K\\Desktop\\project\\venv\\Lib\\site-packages\\keras\\src\\backend.py:873: The name tf.get_default_graph is deprecated. Please use tf.compat.v1.get_default_graph instead.\n",
      "\n"
     ]
    }
   ],
   "source": [
    "model = Sequential()\n",
    "model.add(Dense(units=9, activation='relu'))\n",
    "model.add(Dense(units=9, activation='relu'))\n",
    "model.add(Dense(units=1, activation='sigmoid'))"
   ]
  },
  {
   "cell_type": "code",
   "execution_count": 26,
   "metadata": {
    "id": "mBMI_nGwuCxJ"
   },
   "outputs": [
    {
     "name": "stdout",
     "output_type": "stream",
     "text": [
      "WARNING:tensorflow:From c:\\Users\\Siva prathap K\\Desktop\\project\\venv\\Lib\\site-packages\\keras\\src\\optimizers\\__init__.py:309: The name tf.train.Optimizer is deprecated. Please use tf.compat.v1.train.Optimizer instead.\n",
      "\n"
     ]
    }
   ],
   "source": [
    "model.compile(optimizer='adam',\n",
    "             loss='binary_crossentropy',\n",
    "             metrics=['accuracy'])"
   ]
  },
  {
   "cell_type": "code",
   "execution_count": 27,
   "metadata": {
    "colab": {
     "base_uri": "https://localhost:8080/"
    },
    "id": "aZonY-wkuHGM",
    "outputId": "d56a2de7-fb43-498f-eba7-fd845fbecf80",
    "scrolled": true
   },
   "outputs": [
    {
     "name": "stdout",
     "output_type": "stream",
     "text": [
      "Epoch 1/120\n",
      "WARNING:tensorflow:From c:\\Users\\Siva prathap K\\Desktop\\project\\venv\\Lib\\site-packages\\keras\\src\\utils\\tf_utils.py:492: The name tf.ragged.RaggedTensorValue is deprecated. Please use tf.compat.v1.ragged.RaggedTensorValue instead.\n",
      "\n",
      "WARNING:tensorflow:From c:\\Users\\Siva prathap K\\Desktop\\project\\venv\\Lib\\site-packages\\keras\\src\\engine\\base_layer_utils.py:384: The name tf.executing_eagerly_outside_functions is deprecated. Please use tf.compat.v1.executing_eagerly_outside_functions instead.\n",
      "\n",
      "82/82 [==============================] - 2s 3ms/step - loss: 0.6835 - accuracy: 0.5809\n",
      "Epoch 2/120\n",
      "82/82 [==============================] - 0s 3ms/step - loss: 0.6735 - accuracy: 0.6038\n",
      "Epoch 3/120\n",
      "82/82 [==============================] - 0s 3ms/step - loss: 0.6676 - accuracy: 0.6111\n",
      "Epoch 4/120\n",
      "82/82 [==============================] - 0s 2ms/step - loss: 0.6633 - accuracy: 0.6130\n",
      "Epoch 5/120\n",
      "82/82 [==============================] - 0s 3ms/step - loss: 0.6597 - accuracy: 0.6206\n",
      "Epoch 6/120\n",
      "82/82 [==============================] - 0s 3ms/step - loss: 0.6566 - accuracy: 0.6229\n",
      "Epoch 7/120\n",
      "82/82 [==============================] - 0s 3ms/step - loss: 0.6527 - accuracy: 0.6225\n",
      "Epoch 8/120\n",
      "82/82 [==============================] - 0s 2ms/step - loss: 0.6488 - accuracy: 0.6240\n",
      "Epoch 9/120\n",
      "82/82 [==============================] - 0s 2ms/step - loss: 0.6438 - accuracy: 0.6374\n",
      "Epoch 10/120\n",
      "82/82 [==============================] - 0s 3ms/step - loss: 0.6391 - accuracy: 0.6427\n",
      "Epoch 11/120\n",
      "82/82 [==============================] - 0s 3ms/step - loss: 0.6342 - accuracy: 0.6496\n",
      "Epoch 12/120\n",
      "82/82 [==============================] - 0s 2ms/step - loss: 0.6293 - accuracy: 0.6500\n",
      "Epoch 13/120\n",
      "82/82 [==============================] - 0s 4ms/step - loss: 0.6241 - accuracy: 0.6542\n",
      "Epoch 14/120\n",
      "82/82 [==============================] - 0s 3ms/step - loss: 0.6191 - accuracy: 0.6611\n",
      "Epoch 15/120\n",
      "82/82 [==============================] - 0s 2ms/step - loss: 0.6151 - accuracy: 0.6656\n",
      "Epoch 16/120\n",
      "82/82 [==============================] - 0s 3ms/step - loss: 0.6113 - accuracy: 0.6672\n",
      "Epoch 17/120\n",
      "82/82 [==============================] - 0s 3ms/step - loss: 0.6085 - accuracy: 0.6702\n",
      "Epoch 18/120\n",
      "82/82 [==============================] - 0s 4ms/step - loss: 0.6059 - accuracy: 0.6679\n",
      "Epoch 19/120\n",
      "82/82 [==============================] - 0s 3ms/step - loss: 0.6034 - accuracy: 0.6698\n",
      "Epoch 20/120\n",
      "82/82 [==============================] - 0s 3ms/step - loss: 0.6016 - accuracy: 0.6752\n",
      "Epoch 21/120\n",
      "82/82 [==============================] - 0s 2ms/step - loss: 0.5997 - accuracy: 0.6794\n",
      "Epoch 22/120\n",
      "82/82 [==============================] - 0s 3ms/step - loss: 0.5983 - accuracy: 0.6771\n",
      "Epoch 23/120\n",
      "82/82 [==============================] - 0s 2ms/step - loss: 0.5967 - accuracy: 0.6809\n",
      "Epoch 24/120\n",
      "82/82 [==============================] - 0s 4ms/step - loss: 0.5955 - accuracy: 0.6817\n",
      "Epoch 25/120\n",
      "82/82 [==============================] - 0s 3ms/step - loss: 0.5943 - accuracy: 0.6821\n",
      "Epoch 26/120\n",
      "82/82 [==============================] - 0s 3ms/step - loss: 0.5934 - accuracy: 0.6828\n",
      "Epoch 27/120\n",
      "82/82 [==============================] - 0s 4ms/step - loss: 0.5927 - accuracy: 0.6863\n",
      "Epoch 28/120\n",
      "82/82 [==============================] - 0s 4ms/step - loss: 0.5919 - accuracy: 0.6863\n",
      "Epoch 29/120\n",
      "82/82 [==============================] - 0s 3ms/step - loss: 0.5908 - accuracy: 0.6874\n",
      "Epoch 30/120\n",
      "82/82 [==============================] - 0s 4ms/step - loss: 0.5904 - accuracy: 0.6863\n",
      "Epoch 31/120\n",
      "82/82 [==============================] - 0s 3ms/step - loss: 0.5899 - accuracy: 0.6855\n",
      "Epoch 32/120\n",
      "82/82 [==============================] - 0s 3ms/step - loss: 0.5889 - accuracy: 0.6863\n",
      "Epoch 33/120\n",
      "82/82 [==============================] - 0s 3ms/step - loss: 0.5884 - accuracy: 0.6866\n",
      "Epoch 34/120\n",
      "82/82 [==============================] - 0s 3ms/step - loss: 0.5876 - accuracy: 0.6863\n",
      "Epoch 35/120\n",
      "82/82 [==============================] - 0s 4ms/step - loss: 0.5873 - accuracy: 0.6893\n",
      "Epoch 36/120\n",
      "82/82 [==============================] - 0s 3ms/step - loss: 0.5869 - accuracy: 0.6874\n",
      "Epoch 37/120\n",
      "82/82 [==============================] - 0s 4ms/step - loss: 0.5863 - accuracy: 0.6893\n",
      "Epoch 38/120\n",
      "82/82 [==============================] - 0s 4ms/step - loss: 0.5858 - accuracy: 0.6878\n",
      "Epoch 39/120\n",
      "82/82 [==============================] - 0s 4ms/step - loss: 0.5850 - accuracy: 0.6901\n",
      "Epoch 40/120\n",
      "82/82 [==============================] - 0s 3ms/step - loss: 0.5846 - accuracy: 0.6893\n",
      "Epoch 41/120\n",
      "82/82 [==============================] - 0s 4ms/step - loss: 0.5841 - accuracy: 0.6889\n",
      "Epoch 42/120\n",
      "82/82 [==============================] - 0s 4ms/step - loss: 0.5842 - accuracy: 0.6863\n",
      "Epoch 43/120\n",
      "82/82 [==============================] - 0s 3ms/step - loss: 0.5832 - accuracy: 0.6912\n",
      "Epoch 44/120\n",
      "82/82 [==============================] - 0s 4ms/step - loss: 0.5827 - accuracy: 0.6901\n",
      "Epoch 45/120\n",
      "82/82 [==============================] - 0s 4ms/step - loss: 0.5828 - accuracy: 0.6905\n",
      "Epoch 46/120\n",
      "82/82 [==============================] - 0s 3ms/step - loss: 0.5826 - accuracy: 0.6905\n",
      "Epoch 47/120\n",
      "82/82 [==============================] - 0s 3ms/step - loss: 0.5822 - accuracy: 0.6885\n",
      "Epoch 48/120\n",
      "82/82 [==============================] - 0s 3ms/step - loss: 0.5813 - accuracy: 0.6905\n",
      "Epoch 49/120\n",
      "82/82 [==============================] - 0s 4ms/step - loss: 0.5814 - accuracy: 0.6924\n",
      "Epoch 50/120\n",
      "82/82 [==============================] - 0s 3ms/step - loss: 0.5810 - accuracy: 0.6920\n",
      "Epoch 51/120\n",
      "82/82 [==============================] - 0s 3ms/step - loss: 0.5810 - accuracy: 0.6924\n",
      "Epoch 52/120\n",
      "82/82 [==============================] - 0s 4ms/step - loss: 0.5803 - accuracy: 0.6931\n",
      "Epoch 53/120\n",
      "82/82 [==============================] - 0s 3ms/step - loss: 0.5796 - accuracy: 0.6924\n",
      "Epoch 54/120\n",
      "82/82 [==============================] - 0s 4ms/step - loss: 0.5796 - accuracy: 0.6912\n",
      "Epoch 55/120\n",
      "82/82 [==============================] - 0s 4ms/step - loss: 0.5792 - accuracy: 0.6954\n",
      "Epoch 56/120\n",
      "82/82 [==============================] - 0s 3ms/step - loss: 0.5790 - accuracy: 0.6935\n",
      "Epoch 57/120\n",
      "82/82 [==============================] - 0s 4ms/step - loss: 0.5784 - accuracy: 0.6931\n",
      "Epoch 58/120\n",
      "82/82 [==============================] - 0s 4ms/step - loss: 0.5784 - accuracy: 0.6939\n",
      "Epoch 59/120\n",
      "82/82 [==============================] - 0s 4ms/step - loss: 0.5777 - accuracy: 0.6935\n",
      "Epoch 60/120\n",
      "82/82 [==============================] - 0s 3ms/step - loss: 0.5775 - accuracy: 0.6950\n",
      "Epoch 61/120\n",
      "82/82 [==============================] - 0s 2ms/step - loss: 0.5774 - accuracy: 0.6912\n",
      "Epoch 62/120\n",
      "82/82 [==============================] - 0s 2ms/step - loss: 0.5769 - accuracy: 0.6958\n",
      "Epoch 63/120\n",
      "82/82 [==============================] - 0s 2ms/step - loss: 0.5767 - accuracy: 0.6939\n",
      "Epoch 64/120\n",
      "82/82 [==============================] - 0s 4ms/step - loss: 0.5770 - accuracy: 0.6943\n",
      "Epoch 65/120\n",
      "82/82 [==============================] - 0s 3ms/step - loss: 0.5764 - accuracy: 0.6958\n",
      "Epoch 66/120\n",
      "82/82 [==============================] - 0s 3ms/step - loss: 0.5756 - accuracy: 0.6947\n",
      "Epoch 67/120\n",
      "82/82 [==============================] - 0s 4ms/step - loss: 0.5754 - accuracy: 0.6947\n",
      "Epoch 68/120\n",
      "82/82 [==============================] - 0s 3ms/step - loss: 0.5755 - accuracy: 0.6973\n",
      "Epoch 69/120\n",
      "82/82 [==============================] - 0s 3ms/step - loss: 0.5751 - accuracy: 0.6947\n",
      "Epoch 70/120\n",
      "82/82 [==============================] - 0s 3ms/step - loss: 0.5750 - accuracy: 0.6958\n",
      "Epoch 71/120\n",
      "82/82 [==============================] - 0s 3ms/step - loss: 0.5744 - accuracy: 0.6958\n",
      "Epoch 72/120\n",
      "82/82 [==============================] - 0s 3ms/step - loss: 0.5742 - accuracy: 0.6935\n",
      "Epoch 73/120\n",
      "82/82 [==============================] - 0s 4ms/step - loss: 0.5745 - accuracy: 0.6962\n",
      "Epoch 74/120\n",
      "82/82 [==============================] - 0s 3ms/step - loss: 0.5742 - accuracy: 0.6985\n",
      "Epoch 75/120\n",
      "82/82 [==============================] - 0s 3ms/step - loss: 0.5739 - accuracy: 0.7004\n",
      "Epoch 76/120\n",
      "82/82 [==============================] - 0s 4ms/step - loss: 0.5737 - accuracy: 0.6958\n",
      "Epoch 77/120\n",
      "82/82 [==============================] - 0s 3ms/step - loss: 0.5735 - accuracy: 0.6985\n",
      "Epoch 78/120\n",
      "82/82 [==============================] - 0s 3ms/step - loss: 0.5734 - accuracy: 0.6958\n",
      "Epoch 79/120\n",
      "82/82 [==============================] - 0s 4ms/step - loss: 0.5735 - accuracy: 0.6969\n",
      "Epoch 80/120\n",
      "82/82 [==============================] - 0s 2ms/step - loss: 0.5728 - accuracy: 0.7015\n",
      "Epoch 81/120\n",
      "82/82 [==============================] - 0s 3ms/step - loss: 0.5729 - accuracy: 0.6992\n",
      "Epoch 82/120\n",
      "82/82 [==============================] - 0s 4ms/step - loss: 0.5726 - accuracy: 0.6985\n",
      "Epoch 83/120\n",
      "82/82 [==============================] - 0s 3ms/step - loss: 0.5723 - accuracy: 0.6989\n",
      "Epoch 84/120\n",
      "82/82 [==============================] - 0s 4ms/step - loss: 0.5718 - accuracy: 0.6973\n",
      "Epoch 85/120\n",
      "82/82 [==============================] - 0s 3ms/step - loss: 0.5718 - accuracy: 0.6981\n",
      "Epoch 86/120\n",
      "82/82 [==============================] - 0s 3ms/step - loss: 0.5727 - accuracy: 0.6958\n",
      "Epoch 87/120\n",
      "82/82 [==============================] - 0s 3ms/step - loss: 0.5718 - accuracy: 0.6989\n",
      "Epoch 88/120\n",
      "82/82 [==============================] - 0s 3ms/step - loss: 0.5715 - accuracy: 0.6981\n",
      "Epoch 89/120\n",
      "82/82 [==============================] - 0s 4ms/step - loss: 0.5711 - accuracy: 0.6981\n",
      "Epoch 90/120\n",
      "82/82 [==============================] - 0s 4ms/step - loss: 0.5711 - accuracy: 0.6985\n",
      "Epoch 91/120\n",
      "82/82 [==============================] - 0s 3ms/step - loss: 0.5707 - accuracy: 0.6989\n",
      "Epoch 92/120\n",
      "82/82 [==============================] - 0s 4ms/step - loss: 0.5709 - accuracy: 0.6973\n",
      "Epoch 93/120\n",
      "82/82 [==============================] - 0s 3ms/step - loss: 0.5707 - accuracy: 0.6992\n",
      "Epoch 94/120\n",
      "82/82 [==============================] - 0s 3ms/step - loss: 0.5701 - accuracy: 0.6992\n",
      "Epoch 95/120\n",
      "82/82 [==============================] - 0s 2ms/step - loss: 0.5702 - accuracy: 0.7019\n",
      "Epoch 96/120\n",
      "82/82 [==============================] - 0s 2ms/step - loss: 0.5701 - accuracy: 0.7000\n",
      "Epoch 97/120\n",
      "82/82 [==============================] - 0s 4ms/step - loss: 0.5696 - accuracy: 0.7000\n",
      "Epoch 98/120\n",
      "82/82 [==============================] - 0s 3ms/step - loss: 0.5699 - accuracy: 0.7015\n",
      "Epoch 99/120\n",
      "82/82 [==============================] - 0s 3ms/step - loss: 0.5697 - accuracy: 0.7004\n",
      "Epoch 100/120\n",
      "82/82 [==============================] - 0s 3ms/step - loss: 0.5691 - accuracy: 0.7004\n",
      "Epoch 101/120\n",
      "82/82 [==============================] - 0s 3ms/step - loss: 0.5690 - accuracy: 0.6989\n",
      "Epoch 102/120\n",
      "82/82 [==============================] - 0s 3ms/step - loss: 0.5691 - accuracy: 0.6985\n",
      "Epoch 103/120\n",
      "82/82 [==============================] - 0s 3ms/step - loss: 0.5688 - accuracy: 0.7034\n",
      "Epoch 104/120\n",
      "82/82 [==============================] - 0s 3ms/step - loss: 0.5690 - accuracy: 0.7004\n",
      "Epoch 105/120\n",
      "82/82 [==============================] - 0s 3ms/step - loss: 0.5684 - accuracy: 0.7011\n",
      "Epoch 106/120\n",
      "82/82 [==============================] - 0s 2ms/step - loss: 0.5681 - accuracy: 0.7008\n",
      "Epoch 107/120\n",
      "82/82 [==============================] - 0s 2ms/step - loss: 0.5679 - accuracy: 0.7015\n",
      "Epoch 108/120\n",
      "82/82 [==============================] - 0s 4ms/step - loss: 0.5679 - accuracy: 0.6996\n",
      "Epoch 109/120\n",
      "82/82 [==============================] - 0s 4ms/step - loss: 0.5674 - accuracy: 0.7031\n",
      "Epoch 110/120\n",
      "82/82 [==============================] - 0s 4ms/step - loss: 0.5674 - accuracy: 0.7008\n",
      "Epoch 111/120\n",
      "82/82 [==============================] - 0s 3ms/step - loss: 0.5671 - accuracy: 0.7038\n",
      "Epoch 112/120\n",
      "82/82 [==============================] - 0s 4ms/step - loss: 0.5671 - accuracy: 0.7038\n",
      "Epoch 113/120\n",
      "82/82 [==============================] - 0s 3ms/step - loss: 0.5666 - accuracy: 0.7061\n",
      "Epoch 114/120\n",
      "82/82 [==============================] - 0s 3ms/step - loss: 0.5666 - accuracy: 0.7015\n",
      "Epoch 115/120\n",
      "82/82 [==============================] - 0s 3ms/step - loss: 0.5660 - accuracy: 0.7046\n",
      "Epoch 116/120\n",
      "82/82 [==============================] - 0s 4ms/step - loss: 0.5663 - accuracy: 0.7042\n",
      "Epoch 117/120\n",
      "82/82 [==============================] - 0s 4ms/step - loss: 0.5659 - accuracy: 0.7023\n",
      "Epoch 118/120\n",
      "82/82 [==============================] - 0s 3ms/step - loss: 0.5662 - accuracy: 0.7061\n",
      "Epoch 119/120\n",
      "82/82 [==============================] - 0s 4ms/step - loss: 0.5656 - accuracy: 0.7057\n",
      "Epoch 120/120\n",
      "82/82 [==============================] - 0s 4ms/step - loss: 0.5656 - accuracy: 0.7061\n"
     ]
    },
    {
     "data": {
      "text/plain": [
       "<keras.src.callbacks.History at 0x233e5a031d0>"
      ]
     },
     "execution_count": 27,
     "metadata": {},
     "output_type": "execute_result"
    }
   ],
   "source": [
    "history = model.fit(X_train, Y_train, batch_size=32, epochs=120)\n",
    "history"
   ]
  },
  {
   "cell_type": "markdown",
   "metadata": {
    "id": "SvEyfQU8uZd5"
   },
   "source": [
    "### Evaluation and Results"
   ]
  },
  {
   "cell_type": "code",
   "execution_count": 28,
   "metadata": {
    "colab": {
     "base_uri": "https://localhost:8080/"
    },
    "id": "a1HmGjglucLy",
    "outputId": "b1812ffb-8b87-4ebc-c950-15d4f98afe84"
   },
   "outputs": [
    {
     "name": "stdout",
     "output_type": "stream",
     "text": [
      "21/21 [==============================] - 0s 3ms/step\n"
     ]
    }
   ],
   "source": [
    "from sklearn.metrics import roc_curve\n",
    "Y_pred_keras = model.predict(X_test).ravel()\n",
    "fpr_keras, tpr_keras, thresholds_keras = roc_curve(Y_test, Y_pred_keras)"
   ]
  },
  {
   "cell_type": "code",
   "execution_count": 29,
   "metadata": {
    "id": "wnZHhdbOufUI"
   },
   "outputs": [],
   "source": [
    "from sklearn.metrics import auc\n",
    "auc_keras = auc(fpr_keras, tpr_keras)"
   ]
  },
  {
   "cell_type": "code",
   "execution_count": 30,
   "metadata": {
    "colab": {
     "base_uri": "https://localhost:8080/",
     "height": 489
    },
    "id": "sEbt0gK3uhws",
    "outputId": "5745f196-f96e-4a79-af04-f5c8a16a9fe2"
   },
   "outputs": [
    {
     "data": {
      "image/png": "[encoded data removed]",
      "text/plain": [
       "<Figure size 640x480 with 1 Axes>"
      ]
     },
     "metadata": {},
     "output_type": "display_data"
    }
   ],
   "source": [
    "plt.figure(1)\n",
    "plt.plot([0, 1], [0, 1], 'k--')\n",
    "plt.plot(fpr_keras, tpr_keras, label='Keras (area = {:.3f})'.format(auc_keras))\n",
    "plt.xlabel('False positive rate')\n",
    "plt.ylabel('True positive rate')\n",
    "plt.title('ROC curve')\n",
    "plt.legend(loc='best')\n",
    "plt.show()"
   ]
  },
  {
   "cell_type": "code",
   "execution_count": 31,
   "metadata": {
    "colab": {
     "base_uri": "https://localhost:8080/",
     "height": 526
    },
    "id": "wKjkY_-7ulDp",
    "outputId": "c710b05c-f426-44f4-eb00-16c290856b96"
   },
   "outputs": [
    {
     "name": "stdout",
     "output_type": "stream",
     "text": [
      "21/21 [==============================] - 0s 3ms/step\n"
     ]
    },
    {
     "data": {
      "image/png": "[encoded data removed]",
      "text/plain": [
       "<Figure size 640x480 with 2 Axes>"
      ]
     },
     "metadata": {},
     "output_type": "display_data"
    }
   ],
   "source": [
    "Y_pred = model.predict(X_test)\n",
    "Y_pred = Y_pred > 0.5\n",
    "cm = confusion_matrix(Y_test, Y_pred)\n",
    "p = sns.heatmap(pd.DataFrame(cm), annot=True, cmap=\"YlGnBu\" ,fmt='g')\n",
    "plt.title('Confusion matrix', y=1.1)\n",
    "plt.ylabel('Actual label')\n",
    "plt.xlabel('Predicted label')\n",
    "plt.savefig(\"results\\conmat.png\", bbox_inches=\"tight\", format=\"png\")"
   ]
  },
  {
   "cell_type": "code",
   "execution_count": 32,
   "metadata": {
    "id": "eNxmucG4usWh"
   },
   "outputs": [],
   "source": [
    "loss = history.history[\"loss\"]\n",
    "acc = history.history[\"accuracy\"]"
   ]
  },
  {
   "cell_type": "code",
   "execution_count": 33,
   "metadata": {
    "colab": {
     "base_uri": "https://localhost:8080/",
     "height": 726
    },
    "id": "X_X0LY8iuxaU",
    "outputId": "75def2d7-cbe0-40f2-ea34-c64242080f17"
   },
   "outputs": [
    {
     "data": {
      "image/png": "[encoded data removed]",
      "text/plain": [
       "<Figure size 1000x800 with 1 Axes>"
      ]
     },
     "metadata": {},
     "output_type": "display_data"
    }
   ],
   "source": [
    "plt.figure(figsize=(10,8))\n",
    "plt.plot(loss, \"r--\", label=\"Loss\")\n",
    "plt.plot(acc, \"g--\", label=\"Accuracy\")\n",
    "plt.title(\"loss accuracy plot\".upper(), size=20, weight=\"bold\")\n",
    "plt.xlabel(\"Epoch\")\n",
    "plt.legend();\n",
    "plt.savefig(\"results\\loss accuracy plot.png\", bbox_inches=\"tight\", format=\"png\")"
   ]
  },
  {
   "cell_type": "code",
   "execution_count": 34,
   "metadata": {},
   "outputs": [],
   "source": [
    "model.save(\"models\\modelwqp.h5\")"
   ]
  },
  {
   "cell_type": "code",
   "execution_count": null,
   "metadata": {},
   "outputs": [],
   "source": []
  }
 ],
 "metadata": {
  "colab": {
   "provenance": []
  },
  "kernelspec": {
   "display_name": "my_project_kernel",
   "language": "python",
   "name": "my_project_kernel"
  },
  "language_info": {
   "codemirror_mode": {
    "name": "ipython",
    "version": 3
   },
   "file_extension": ".py",
   "mimetype": "text/x-python",
   "name": "python",
   "nbconvert_exporter": "python",
   "pygments_lexer": "ipython3",
   "version": "3.11.8"
  }
 },
 "nbformat": 4,
 "nbformat_minor": 4
}
